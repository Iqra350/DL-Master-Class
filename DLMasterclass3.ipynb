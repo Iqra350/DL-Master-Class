{
  "nbformat": 4,
  "nbformat_minor": 0,
  "metadata": {
    "colab": {
      "name": "DLMasterclass3.ipynb",
      "provenance": [],
      "collapsed_sections": []
    },
    "kernelspec": {
      "name": "python3",
      "display_name": "Python 3"
    }
  },
  "cells": [
    {
      "cell_type": "code",
      "metadata": {
        "id": "sCOH86zbO4lQ"
      },
      "source": [
        "import tensorflow as tf"
      ],
      "execution_count": null,
      "outputs": []
    },
    {
      "cell_type": "code",
      "metadata": {
        "id": "BiMPL14lffqu",
        "colab": {
          "base_uri": "https://localhost:8080/"
        },
        "outputId": "5fe3ed9a-053c-42ed-b426-3ae4f286db38"
      },
      "source": [
        "my_tensor = tf.constant([1,3,4])\n",
        "my_variable = tf.Variable([[2,3],[3,4]])\n",
        "bool_variable = tf.Variable([False,False,False])\n",
        "print(bool_variable)\n",
        "complex_variable = tf.Variable([1+2j,3+4j])\n",
        "print(complex_variable)\n",
        "print(\"as numpy array\", my_variable.numpy())\n",
        "print(\"again to tensor flow variable\", tf.convert_to_tensor(my_variable))"
      ],
      "execution_count": null,
      "outputs": [
        {
          "output_type": "stream",
          "text": [
            "<tf.Variable 'Variable:0' shape=(3,) dtype=bool, numpy=array([False, False, False])>\n",
            "<tf.Variable 'Variable:0' shape=(2,) dtype=complex128, numpy=array([1.+2.j, 3.+4.j])>\n",
            "as numpy array [[2 3]\n",
            " [3 4]]\n",
            "again to tensor flow variable tf.Tensor(\n",
            "[[2 3]\n",
            " [3 4]], shape=(2, 2), dtype=int32)\n"
          ],
          "name": "stdout"
        }
      ]
    },
    {
      "cell_type": "code",
      "metadata": {
        "id": "FlqtVz9LnmZa",
        "colab": {
          "base_uri": "https://localhost:8080/"
        },
        "outputId": "6d573ba9-50c7-400a-a1e7-8f8bbacd30ec"
      },
      "source": [
        "a = tf.Variable([1,2])\n",
        "a.assign([4,5])\n",
        "print(a)\n",
        "try:\n",
        "  a.assign([2,3,4])\n",
        "except Exception as e:print(e) "
      ],
      "execution_count": null,
      "outputs": [
        {
          "output_type": "stream",
          "text": [
            "<tf.Variable 'Variable:0' shape=(2,) dtype=int32, numpy=array([4, 5], dtype=int32)>\n",
            "Shapes (2,) and (3,) are incompatible\n"
          ],
          "name": "stdout"
        }
      ]
    },
    {
      "cell_type": "code",
      "metadata": {
        "id": "Z-mLthFkpzqa",
        "colab": {
          "base_uri": "https://localhost:8080/"
        },
        "outputId": "f4c13d7d-03ad-4d26-cb88-ebc8a583d79b"
      },
      "source": [
        "a = tf.Variable(my_tensor, name='Mart')\n",
        "print(a.numpy())"
      ],
      "execution_count": null,
      "outputs": [
        {
          "output_type": "stream",
          "text": [
            "[1 3 4]\n"
          ],
          "name": "stdout"
        }
      ]
    },
    {
      "cell_type": "code",
      "metadata": {
        "id": "xr1jUK9Tq04J"
      },
      "source": [
        "step_counter = tf.Variable(1,trainable = False)"
      ],
      "execution_count": null,
      "outputs": []
    },
    {
      "cell_type": "code",
      "metadata": {
        "id": "kneJCdLutQ5k",
        "colab": {
          "base_uri": "https://localhost:8080/"
        },
        "outputId": "5f571d6f-aa5e-4c34-a06d-80633bbb1ed7"
      },
      "source": [
        "with tf.device('CPU:0'):\n",
        "  a = tf.Variable([[1,3],[4,3]])\n",
        "  b = tf.Variable([[2,4],[2,4]])\n",
        "with tf.device('GPU:0'):\n",
        "  c = tf.matmul(a,b)\n",
        "print(c)"
      ],
      "execution_count": null,
      "outputs": [
        {
          "output_type": "stream",
          "text": [
            "tf.Tensor(\n",
            "[[ 8 16]\n",
            " [14 28]], shape=(2, 2), dtype=int32)\n"
          ],
          "name": "stdout"
        }
      ]
    },
    {
      "cell_type": "code",
      "metadata": {
        "id": "7pBPakEXvgLZ"
      },
      "source": [
        "import numpy as np\n",
        "import matplotlib.pyplot as plt"
      ],
      "execution_count": null,
      "outputs": []
    },
    {
      "cell_type": "code",
      "metadata": {
        "id": "PWkoSwTgv4eF",
        "colab": {
          "base_uri": "https://localhost:8080/"
        },
        "outputId": "0416506a-bffe-42e2-98ef-864ae6459bd4"
      },
      "source": [
        "a = [1,3]\n",
        "b = [3,4]\n",
        "c = tf.add(a,b)\n",
        "print(c)"
      ],
      "execution_count": null,
      "outputs": [
        {
          "output_type": "stream",
          "text": [
            "tf.Tensor([4 7], shape=(2,), dtype=int32)\n"
          ],
          "name": "stdout"
        }
      ]
    },
    {
      "cell_type": "code",
      "metadata": {
        "id": "a6wmOOpPwPoK",
        "colab": {
          "base_uri": "https://localhost:8080/"
        },
        "outputId": "a21a88ab-d16b-442e-d782-0e2f22fc92bb"
      },
      "source": [
        "# Runing the simple regression model\n",
        "x = tf.constant(range(10), dtype=tf.float32)\n",
        "y = 2 * x + 10\n",
        "print('x:{}', format(x))\n",
        "print('y:{}', format(y))\n"
      ],
      "execution_count": null,
      "outputs": [
        {
          "output_type": "stream",
          "text": [
            "x:{} [0. 1. 2. 3. 4. 5. 6. 7. 8. 9.]\n",
            "y:{} [10. 12. 14. 16. 18. 20. 22. 24. 26. 28.]\n"
          ],
          "name": "stdout"
        }
      ]
    },
    {
      "cell_type": "code",
      "metadata": {
        "id": "c89XNgRHxe1D"
      },
      "source": [
        "# creating tes dataset\n",
        "x_test = tf.constant(range(10,20), dtype= tf.float32)\n",
        "y_test = 2 * x + 10"
      ],
      "execution_count": null,
      "outputs": []
    },
    {
      "cell_type": "code",
      "metadata": {
        "id": "-jrNiVVEygx-"
      },
      "source": [
        "y_mean = y.numpy().mean()\n",
        "def predict_mean(x):\n",
        "  y_hat = [y_mean] * len(x)\n",
        "  return y_hat\n",
        "y_hat = predict_mean(x)"
      ],
      "execution_count": null,
      "outputs": []
    },
    {
      "cell_type": "code",
      "metadata": {
        "id": "36APu1qFy8zu",
        "colab": {
          "base_uri": "https://localhost:8080/"
        },
        "outputId": "5e692334-ef6e-4e3a-8738-f1aec9c9acb6"
      },
      "source": [
        "errors = (y_hat - y)**2\n",
        "loss = tf.reduce_mean(errors)\n",
        "loss.numpy()"
      ],
      "execution_count": null,
      "outputs": [
        {
          "output_type": "execute_result",
          "data": {
            "text/plain": [
              "33.0"
            ]
          },
          "metadata": {
            "tags": []
          },
          "execution_count": 68
        }
      ]
    },
    {
      "cell_type": "code",
      "metadata": {
        "id": "TBi8ejQXe4NV"
      },
      "source": [
        "def loss_mse(x,y,w0,w1):\n",
        "  y_hat = w0 * x + w1\n",
        "  error = (y_hat - y)**2\n",
        "  return tf.reduce_mean(error)"
      ],
      "execution_count": null,
      "outputs": []
    },
    {
      "cell_type": "code",
      "metadata": {
        "id": "54nBU72dgDGD"
      },
      "source": [
        "def compute_gradient(x,y,w0,w1):\n",
        "  with tf.GradientTape() as tape:\n",
        "    loss = loss_mse(x,y,w0,w1)\n",
        "    return tape.gradient(loss,[w0,w1])"
      ],
      "execution_count": null,
      "outputs": []
    },
    {
      "cell_type": "code",
      "metadata": {
        "id": "cqjZ4vgsghrz"
      },
      "source": [
        "w0 = tf.Variable([0.0])\n",
        "w1 = tf.Variable([0.0])\n",
        "dw0, dw1 = compute_gradient(x,y,w0,w1)"
      ],
      "execution_count": null,
      "outputs": []
    },
    {
      "cell_type": "code",
      "metadata": {
        "colab": {
          "base_uri": "https://localhost:8080/"
        },
        "id": "eLK-oOMQjyJc",
        "outputId": "cd859c45-8374-4db2-f9c0-5c219ec5d990"
      },
      "source": [
        "steps = 1000\n",
        "alpha = 0.02\n",
        "MSG = \"step:{steps} - loss:{loss}, w0:{w0}, w1:{w1} \\n\"\n",
        "w0 = tf.Variable(0.0)\n",
        "w1 = tf.Variable(0.0)\n",
        "for step in range(1, steps+1):\n",
        "  dw0, dw1 = compute_gradient(x, y, w0, w1)\n",
        "  w0.assign_sub(dw0 * alpha)\n",
        "  w1.assign_sub(dw1 * alpha)\n",
        "  if step % 100 == 0:\n",
        "    loss = loss_mse(x,y,w0,w1)\n",
        "    print(MSG.format(steps=step,loss = loss, w0 = w0.numpy(), w1 = w1.numpy()))\n"
      ],
      "execution_count": null,
      "outputs": [
        {
          "output_type": "stream",
          "text": [
            "step:100 - loss:2.6615359783172607, w0:2.483504056930542, w1:6.968146324157715 \n",
            "\n",
            "step:200 - loss:0.27448415756225586, w0:2.1552717685699463, w1:9.026354789733887 \n",
            "\n",
            "step:300 - loss:0.02830762229859829, w0:2.049863815307617, w1:9.687324523925781 \n",
            "\n",
            "step:400 - loss:0.002919511403888464, w0:2.0160133838653564, w1:9.899585723876953 \n",
            "\n",
            "step:500 - loss:0.00030110636726021767, w0:2.0051426887512207, w1:9.967751502990723 \n",
            "\n",
            "step:600 - loss:3.105618088738993e-05, w0:2.0016515254974365, w1:9.989643096923828 \n",
            "\n",
            "step:700 - loss:3.2044197268987773e-06, w0:2.000530481338501, w1:9.996673583984375 \n",
            "\n",
            "step:800 - loss:3.3013247957569547e-07, w0:2.0001704692840576, w1:9.998931884765625 \n",
            "\n",
            "step:900 - loss:3.4496132172989746e-08, w0:2.0000550746917725, w1:9.999654769897461 \n",
            "\n",
            "step:1000 - loss:3.654804459074512e-09, w0:2.0000178813934326, w1:9.999887466430664 \n",
            "\n"
          ],
          "name": "stdout"
        }
      ]
    },
    {
      "cell_type": "code",
      "metadata": {
        "colab": {
          "base_uri": "https://localhost:8080/"
        },
        "id": "ZoZ_eVVLnaU4",
        "outputId": "b256147b-f0a7-46a7-e588-089289702806"
      },
      "source": [
        "loss = loss_mse(x_test,y_test,w0,w1)\n",
        "loss.numpy()"
      ],
      "execution_count": null,
      "outputs": [
        {
          "output_type": "execute_result",
          "data": {
            "text/plain": [
              "400.0059"
            ]
          },
          "metadata": {
            "tags": []
          },
          "execution_count": 74
        }
      ]
    }
  ]
}