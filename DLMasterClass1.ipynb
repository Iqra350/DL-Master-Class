{
  "nbformat": 4,
  "nbformat_minor": 0,
  "metadata": {
    "colab": {
      "name": "DLMasterClass1.ipynb",
      "provenance": [],
      "collapsed_sections": []
    },
    "kernelspec": {
      "name": "python3",
      "display_name": "Python 3"
    }
  },
  "cells": [
    {
      "cell_type": "code",
      "metadata": {
        "id": "Wxej8FdG2Kxx"
      },
      "source": [
        "import numpy as np"
      ],
      "execution_count": null,
      "outputs": []
    },
    {
      "cell_type": "code",
      "metadata": {
        "colab": {
          "base_uri": "https://localhost:8080/"
        },
        "id": "CtIaEzU02U_n",
        "outputId": "8f22a85e-2c7d-4e3f-fdb8-fc92384db1ed"
      },
      "source": [
        "input = np.array([[0,0],[0,1],[1,1],[1,0]])\n",
        "input"
      ],
      "execution_count": null,
      "outputs": [
        {
          "output_type": "execute_result",
          "data": {
            "text/plain": [
              "array([[0, 0],\n",
              "       [0, 1],\n",
              "       [1, 1],\n",
              "       [1, 0]])"
            ]
          },
          "metadata": {
            "tags": []
          },
          "execution_count": 7
        }
      ]
    },
    {
      "cell_type": "code",
      "metadata": {
        "colab": {
          "base_uri": "https://localhost:8080/"
        },
        "id": "bCiamM-G2sSs",
        "outputId": "9a2e98e9-f339-4fbf-ece4-eeb73ef4ce1a"
      },
      "source": [
        "output = np.array([0,0,1,1])\n",
        "output = output.reshape(4,1)\n",
        "output.shape"
      ],
      "execution_count": null,
      "outputs": [
        {
          "output_type": "execute_result",
          "data": {
            "text/plain": [
              "(4, 1)"
            ]
          },
          "metadata": {
            "tags": []
          },
          "execution_count": 12
        }
      ]
    },
    {
      "cell_type": "code",
      "metadata": {
        "id": "5aGqcbA93cgg"
      },
      "source": [
        "weights = np.array([[0.02],[0.03]])\n",
        "weights.shape\n",
        "bias = 0.3"
      ],
      "execution_count": null,
      "outputs": []
    },
    {
      "cell_type": "code",
      "metadata": {
        "id": "c1BI56123tYE"
      },
      "source": [
        "def sigmoid_fn(z):\n",
        "  return 1/(1+np.exp(-z))"
      ],
      "execution_count": null,
      "outputs": []
    },
    {
      "cell_type": "code",
      "metadata": {
        "id": "RS_Fmumr4IIx"
      },
      "source": [
        "#Derivative of sigmoid function\n",
        "def der(x):\n",
        "  return sigmoid_fn(x)*(1-sigmoid_fn(x))"
      ],
      "execution_count": null,
      "outputs": []
    },
    {
      "cell_type": "code",
      "metadata": {
        "colab": {
          "base_uri": "https://localhost:8080/"
        },
        "id": "tTO7uC25_1vc",
        "outputId": "9efc5f14-9df3-4f91-a01b-8fa477784aa1"
      },
      "source": [
        "#Ajusting weights of the neural network\n",
        "for epoch in range(1000):\n",
        "  input_array = input\n",
        "  weighted_sum = np.dot(input_array,weights) + bias\n",
        "  first_output = sigmoid_fn(weighted_sum)\n",
        "\n",
        "  error = first_output - output\n",
        "  #print(\"error\", error)\n",
        "  weighted_error = np.square(np.subtract(first_output,output)).mean()\n",
        "  #print(\"weighted error\", weighted_error)\n",
        "\n",
        "  first_derivative = error\n",
        "  second_derivative = der(first_output)\n",
        "  derivative = first_derivative * second_derivative\n",
        "\n",
        "  input_t = input.T\n",
        "  final_derivative = np.dot(input_t,derivative)\n",
        "  # Training the weights/ updating the weights parameters\n",
        "  weights = weights - 0.05 * final_derivative\n",
        "  # Updating the bias parameters\n",
        "  for i in derivative:\n",
        "    bias = bias - 0.04 * i\n",
        "print('weights = ', weights)\n",
        "print('bias = ', bias)\n",
        "  "
      ],
      "execution_count": null,
      "outputs": [
        {
          "output_type": "stream",
          "text": [
            "weights =  [[ 5.58389606]\n",
            " [-0.52475421]]\n",
            "bias =  [-2.37986996]\n"
          ],
          "name": "stdout"
        }
      ]
    },
    {
      "cell_type": "code",
      "metadata": {
        "colab": {
          "base_uri": "https://localhost:8080/"
        },
        "id": "B_Pwlov9Dp-o",
        "outputId": "9755e3d7-873f-433f-bb3d-e896d7f5c06b"
      },
      "source": [
        "# Made predication on updated weights and bias\n",
        "pre = np.array([0,0])\n",
        "res = np.dot(pre, weights) + bias\n",
        "res = sigmoid_fn(res)\n",
        "print('result of the prediction = ', np.round(res))\n"
      ],
      "execution_count": null,
      "outputs": [
        {
          "output_type": "stream",
          "text": [
            "result of the prediction =  [0.]\n"
          ],
          "name": "stdout"
        }
      ]
    }
  ]
}