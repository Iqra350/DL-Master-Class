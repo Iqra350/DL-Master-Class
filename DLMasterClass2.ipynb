{
  "nbformat": 4,
  "nbformat_minor": 0,
  "metadata": {
    "colab": {
      "name": "DLMasterClass2.ipynb",
      "provenance": []
    },
    "kernelspec": {
      "name": "python3",
      "display_name": "Python 3"
    }
  },
  "cells": [
    {
      "cell_type": "code",
      "metadata": {
        "colab": {
          "base_uri": "https://localhost:8080/"
        },
        "id": "hH2vCHkvEe_I",
        "outputId": "8324b049-2e80-45c9-dd57-dff3ada643d4"
      },
      "source": [
        "import tensorflow as tf\n",
        "print(tf.__version__)\n",
        "import numpy as np"
      ],
      "execution_count": null,
      "outputs": [
        {
          "output_type": "stream",
          "text": [
            "2.3.0\n"
          ],
          "name": "stdout"
        }
      ]
    },
    {
      "cell_type": "code",
      "metadata": {
        "colab": {
          "base_uri": "https://localhost:8080/"
        },
        "id": "z2IWTRmTFLqj",
        "outputId": "d37a874a-6936-4003-c969-aa543803d1be"
      },
      "source": [
        "x = tf.constant([[1,4,2],[4,1,5]])\n",
        "x"
      ],
      "execution_count": null,
      "outputs": [
        {
          "output_type": "execute_result",
          "data": {
            "text/plain": [
              "<tf.Tensor: shape=(2, 3), dtype=int32, numpy=\n",
              "array([[1, 4, 2],\n",
              "       [4, 1, 5]], dtype=int32)>"
            ]
          },
          "metadata": {
            "tags": []
          },
          "execution_count": 3
        }
      ]
    },
    {
      "cell_type": "code",
      "metadata": {
        "colab": {
          "base_uri": "https://localhost:8080/"
        },
        "id": "ERrraVpHGDFS",
        "outputId": "764dc9b0-20dd-4fd7-c093-922dbe6ee017"
      },
      "source": [
        "y = x[:,1]\n",
        "y"
      ],
      "execution_count": null,
      "outputs": [
        {
          "output_type": "execute_result",
          "data": {
            "text/plain": [
              "<tf.Tensor: shape=(2,), dtype=int32, numpy=array([4, 1], dtype=int32)>"
            ]
          },
          "metadata": {
            "tags": []
          },
          "execution_count": 4
        }
      ]
    },
    {
      "cell_type": "code",
      "metadata": {
        "colab": {
          "base_uri": "https://localhost:8080/"
        },
        "id": "p1javCrYJFIA",
        "outputId": "19025e24-8129-4aa9-a1a6-1f8d389db6d2"
      },
      "source": [
        "y = tf.reshape(x,[6,1])\n",
        "y"
      ],
      "execution_count": null,
      "outputs": [
        {
          "output_type": "execute_result",
          "data": {
            "text/plain": [
              "<tf.Tensor: shape=(6, 1), dtype=int32, numpy=\n",
              "array([[1],\n",
              "       [4],\n",
              "       [2],\n",
              "       [4],\n",
              "       [1],\n",
              "       [5]], dtype=int32)>"
            ]
          },
          "metadata": {
            "tags": []
          },
          "execution_count": 5
        }
      ]
    },
    {
      "cell_type": "code",
      "metadata": {
        "colab": {
          "base_uri": "https://localhost:8080/"
        },
        "id": "qcrjXZRsJU_n",
        "outputId": "dfd4c987-2fb4-4d21-eb38-86e9b9eb645e"
      },
      "source": [
        "# rank zero tensors\n",
        "rank_zero_tensor = tf.constant(4)\n",
        "print(rank_zero_tensor)"
      ],
      "execution_count": null,
      "outputs": [
        {
          "output_type": "stream",
          "text": [
            "tf.Tensor(4, shape=(), dtype=int32)\n"
          ],
          "name": "stdout"
        }
      ]
    },
    {
      "cell_type": "code",
      "metadata": {
        "colab": {
          "base_uri": "https://localhost:8080/"
        },
        "id": "_D-W6TX_L7ys",
        "outputId": "7e2a9496-cfc0-4a27-a42f-1751caffffeb"
      },
      "source": [
        "rank_1_tensor = tf.constant([2,4,6])\n",
        "print(rank_1_tensor)"
      ],
      "execution_count": null,
      "outputs": [
        {
          "output_type": "stream",
          "text": [
            "tf.Tensor([2 4 6], shape=(3,), dtype=int32)\n"
          ],
          "name": "stdout"
        }
      ]
    },
    {
      "cell_type": "code",
      "metadata": {
        "colab": {
          "base_uri": "https://localhost:8080/"
        },
        "id": "xWsDYLcnMLAe",
        "outputId": "d713c29a-e6bd-4626-b412-4bbda41bd579"
      },
      "source": [
        "rank_2_tensor = tf.constant([[1,2],[3,5],[2,1]])\n",
        "print(rank_2_tensor)"
      ],
      "execution_count": null,
      "outputs": [
        {
          "output_type": "stream",
          "text": [
            "tf.Tensor(\n",
            "[[1 2]\n",
            " [3 5]\n",
            " [2 1]], shape=(3, 2), dtype=int32)\n"
          ],
          "name": "stdout"
        }
      ]
    },
    {
      "cell_type": "code",
      "metadata": {
        "colab": {
          "base_uri": "https://localhost:8080/"
        },
        "id": "zMNegwc1MgpB",
        "outputId": "dd35b489-e901-4711-b44d-ca7a316cb87b"
      },
      "source": [
        "rank_3_tensor = tf.constant([ \n",
        "                            [[1,2,4],\n",
        "                             [2,4,2]],\n",
        "                            [[3,5,6],\n",
        "                             [5,5,6]],\n",
        "                            [[3,5,7],\n",
        "                             [4,5,7]]\n",
        "                             ])\n",
        "print(rank_3_tensor)"
      ],
      "execution_count": null,
      "outputs": [
        {
          "output_type": "stream",
          "text": [
            "tf.Tensor(\n",
            "[[[1 2 4]\n",
            "  [2 4 2]]\n",
            "\n",
            " [[3 5 6]\n",
            "  [5 5 6]]\n",
            "\n",
            " [[3 5 7]\n",
            "  [4 5 7]]], shape=(3, 2, 3), dtype=int32)\n"
          ],
          "name": "stdout"
        }
      ]
    },
    {
      "cell_type": "code",
      "metadata": {
        "colab": {
          "base_uri": "https://localhost:8080/"
        },
        "id": "fMFHLMNwctQg",
        "outputId": "7246dbce-65c6-4170-f36c-1451d97f80c7"
      },
      "source": [
        "np.array(rank_2_tensor)"
      ],
      "execution_count": null,
      "outputs": [
        {
          "output_type": "execute_result",
          "data": {
            "text/plain": [
              "array([[1, 2],\n",
              "       [3, 5],\n",
              "       [2, 1]], dtype=int32)"
            ]
          },
          "metadata": {
            "tags": []
          },
          "execution_count": 10
        }
      ]
    },
    {
      "cell_type": "code",
      "metadata": {
        "colab": {
          "base_uri": "https://localhost:8080/"
        },
        "id": "ynSD7SCvc4gi",
        "outputId": "4074c820-25dd-494f-bac5-42d9ac9dc3d3"
      },
      "source": [
        "rank_2_tensor.numpy()"
      ],
      "execution_count": null,
      "outputs": [
        {
          "output_type": "execute_result",
          "data": {
            "text/plain": [
              "array([[1, 2],\n",
              "       [3, 5],\n",
              "       [2, 1]], dtype=int32)"
            ]
          },
          "metadata": {
            "tags": []
          },
          "execution_count": 11
        }
      ]
    },
    {
      "cell_type": "code",
      "metadata": {
        "colab": {
          "base_uri": "https://localhost:8080/"
        },
        "id": "ztbebQ4Fc9Ck",
        "outputId": "d6f6d0f0-1e0b-4970-b45f-bb0c65d648ad"
      },
      "source": [
        "a = tf.constant([[1,2],[3,4]])\n",
        "b = tf.constant([[3,5],[5,4]])\n",
        "print('sum = ', tf.add(a,b), '\\n')\n",
        "print('element wise multiplication', tf.multiply(a,b), '\\n')\n",
        "print('matric multiplication', tf.matmul(a,b), '\\n')"
      ],
      "execution_count": null,
      "outputs": [
        {
          "output_type": "stream",
          "text": [
            "sum =  tf.Tensor(\n",
            "[[4 7]\n",
            " [8 8]], shape=(2, 2), dtype=int32) \n",
            "\n",
            "element wise multiplication tf.Tensor(\n",
            "[[ 3 10]\n",
            " [15 16]], shape=(2, 2), dtype=int32) \n",
            "\n",
            "matric multiplication tf.Tensor(\n",
            "[[13 13]\n",
            " [29 31]], shape=(2, 2), dtype=int32) \n",
            "\n"
          ],
          "name": "stdout"
        }
      ]
    },
    {
      "cell_type": "code",
      "metadata": {
        "colab": {
          "base_uri": "https://localhost:8080/"
        },
        "id": "4AFzSSLVdrKg",
        "outputId": "22252843-4ced-4e20-804a-9ba594752700"
      },
      "source": [
        "c = tf.constant([[1.0,3.0],[2.0,13.0]])\n",
        "print('maximum value = ', tf.reduce_max(c), '\\n')\n",
        "print('index of largest value = ', tf.math.argmax(c),'\\n')\n",
        "tf.nn.softmax(c)"
      ],
      "execution_count": null,
      "outputs": [
        {
          "output_type": "stream",
          "text": [
            "maximum value =  tf.Tensor(13.0, shape=(), dtype=float32) \n",
            "\n",
            "index of largest value =  tf.Tensor([1 1], shape=(2,), dtype=int64) \n",
            "\n"
          ],
          "name": "stdout"
        },
        {
          "output_type": "execute_result",
          "data": {
            "text/plain": [
              "<tf.Tensor: shape=(2, 2), dtype=float32, numpy=\n",
              "array([[1.1920291e-01, 8.8079703e-01],\n",
              "       [1.6701422e-05, 9.9998331e-01]], dtype=float32)>"
            ]
          },
          "metadata": {
            "tags": []
          },
          "execution_count": 13
        }
      ]
    },
    {
      "cell_type": "code",
      "metadata": {
        "colab": {
          "base_uri": "https://localhost:8080/"
        },
        "id": "l8YAPdPlgrgM",
        "outputId": "c7b0c779-8f22-4628-99f7-05b2d28d903a"
      },
      "source": [
        "rank_4_tensor = tf.zeros([2,3,4,5])\n",
        "rank_4_tensor"
      ],
      "execution_count": null,
      "outputs": [
        {
          "output_type": "execute_result",
          "data": {
            "text/plain": [
              "<tf.Tensor: shape=(2, 3, 4, 5), dtype=float32, numpy=\n",
              "array([[[[0., 0., 0., 0., 0.],\n",
              "         [0., 0., 0., 0., 0.],\n",
              "         [0., 0., 0., 0., 0.],\n",
              "         [0., 0., 0., 0., 0.]],\n",
              "\n",
              "        [[0., 0., 0., 0., 0.],\n",
              "         [0., 0., 0., 0., 0.],\n",
              "         [0., 0., 0., 0., 0.],\n",
              "         [0., 0., 0., 0., 0.]],\n",
              "\n",
              "        [[0., 0., 0., 0., 0.],\n",
              "         [0., 0., 0., 0., 0.],\n",
              "         [0., 0., 0., 0., 0.],\n",
              "         [0., 0., 0., 0., 0.]]],\n",
              "\n",
              "\n",
              "       [[[0., 0., 0., 0., 0.],\n",
              "         [0., 0., 0., 0., 0.],\n",
              "         [0., 0., 0., 0., 0.],\n",
              "         [0., 0., 0., 0., 0.]],\n",
              "\n",
              "        [[0., 0., 0., 0., 0.],\n",
              "         [0., 0., 0., 0., 0.],\n",
              "         [0., 0., 0., 0., 0.],\n",
              "         [0., 0., 0., 0., 0.]],\n",
              "\n",
              "        [[0., 0., 0., 0., 0.],\n",
              "         [0., 0., 0., 0., 0.],\n",
              "         [0., 0., 0., 0., 0.],\n",
              "         [0., 0., 0., 0., 0.]]]], dtype=float32)>"
            ]
          },
          "metadata": {
            "tags": []
          },
          "execution_count": 14
        }
      ]
    },
    {
      "cell_type": "code",
      "metadata": {
        "colab": {
          "base_uri": "https://localhost:8080/"
        },
        "id": "ZN-PbqCKg4DB",
        "outputId": "88662159-6772-4e28-f772-471a2497f3c0"
      },
      "source": [
        "x = tf.constant([1,2,1,0,5,7])\n",
        "print(x.numpy())"
      ],
      "execution_count": null,
      "outputs": [
        {
          "output_type": "stream",
          "text": [
            "[1 2 1 0 5 7]\n"
          ],
          "name": "stdout"
        }
      ]
    },
    {
      "cell_type": "code",
      "metadata": {
        "colab": {
          "base_uri": "https://localhost:8080/"
        },
        "id": "570r_yWyhc9_",
        "outputId": "54fa432b-05fa-48f2-b150-7fb0e512c006"
      },
      "source": [
        "print('first element = ', x[0].numpy())\n",
        "print('last element = ', x[-1].numpy())"
      ],
      "execution_count": null,
      "outputs": [
        {
          "output_type": "stream",
          "text": [
            "first element =  1\n",
            "last element =  7\n"
          ],
          "name": "stdout"
        }
      ]
    },
    {
      "cell_type": "code",
      "metadata": {
        "colab": {
          "base_uri": "https://localhost:8080/"
        },
        "id": "vczhVKkgiGeA",
        "outputId": "72960e2a-31f3-4fc5-bdd0-b1bb88073b6d"
      },
      "source": [
        "print('rank_2_tensor = ', rank_2_tensor)"
      ],
      "execution_count": null,
      "outputs": [
        {
          "output_type": "stream",
          "text": [
            "rank_2_tensor =  tf.Tensor(\n",
            "[[1 2]\n",
            " [3 5]\n",
            " [2 1]], shape=(3, 2), dtype=int32)\n"
          ],
          "name": "stdout"
        }
      ]
    },
    {
      "cell_type": "code",
      "metadata": {
        "colab": {
          "base_uri": "https://localhost:8080/"
        },
        "id": "vWbmWDcALKKP",
        "outputId": "ee8a85b5-e821-489a-98f7-e025e66a6dff"
      },
      "source": [
        "print(rank_2_tensor[1,1].numpy())"
      ],
      "execution_count": null,
      "outputs": [
        {
          "output_type": "stream",
          "text": [
            "5\n"
          ],
          "name": "stdout"
        }
      ]
    },
    {
      "cell_type": "code",
      "metadata": {
        "colab": {
          "base_uri": "https://localhost:8080/"
        },
        "id": "TQB5Yq-RLqrD",
        "outputId": "06788623-79c2-4a20-9523-c38a46f034cc"
      },
      "source": [
        "print('second row', rank_2_tensor[1,:].numpy())\n",
        "print('second colom', rank_2_tensor[:,1].numpy())\n",
        "print('last rom', rank_2_tensor[2,:].numpy())"
      ],
      "execution_count": null,
      "outputs": [
        {
          "output_type": "stream",
          "text": [
            "second row [3 5]\n",
            "second colom [2 5 1]\n",
            "last rom [2 1]\n"
          ],
          "name": "stdout"
        }
      ]
    },
    {
      "cell_type": "code",
      "metadata": {
        "id": "0QRyD-CsPN_n"
      },
      "source": [
        ""
      ],
      "execution_count": null,
      "outputs": []
    }
  ]
}